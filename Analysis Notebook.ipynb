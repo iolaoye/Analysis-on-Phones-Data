{
 "cells": [
  {
   "cell_type": "code",
   "execution_count": null,
   "metadata": {},
   "outputs": [],
   "source": [
    "#Busines Understanding\n",
    "\n",
    "#Understanding the trends in mobile phones sales over years for making business decisions. This will involve the following\n",
    "\n",
    "#- Finding the trends in total sales of mobile phones by manufacturers (Questions 1&3)\n",
    "    \n",
    "#- Understanding the pattern in sales of different phone types by manufacturers (Question 2)\n",
    "    \n",
    "#- examining the changes in the number of phone models launched over years (Question 4 & 5)\n",
    "\n",
    "#- establishing a relationship between the observed trends\n",
    "\n",
    "# Direct questions to explore from the data\n",
    "\n",
    "#1. Find the total number of phones sold by various manufacturers\n",
    "#3. Which manufacturer sold highest number of Smartphones?\n",
    "#2. Which manufactural sold highest number of Touchscreen? which sold highest number of bar phones?\n",
    "#4. In which year was the most phones sold?\n",
    "#5. In which year was the most phone models launched?\n",
    "\n"
   ]
  },
  {
   "cell_type": "code",
   "execution_count": null,
   "metadata": {},
   "outputs": [],
   "source": [
    "#Data Understanding\n",
    "#Access the data\n",
    "import numpy as np\n",
    "import pandas as pd\n",
    "import matplotlib.pyplot as plt\n",
    "import seaborn as sns"
   ]
  },
  {
   "cell_type": "code",
   "execution_count": null,
   "metadata": {},
   "outputs": [],
   "source": [
    "df = pd.read_csv(\"C:\\\\Users\\\\debo_\\\\Desktop\\\\ProjectsData\\\\best-selling-mobile-phones.csv\")\n",
    "df"
   ]
  },
  {
   "cell_type": "code",
   "execution_count": null,
   "metadata": {},
   "outputs": [],
   "source": [
    "#Data Exploration "
   ]
  },
  {
   "cell_type": "code",
   "execution_count": null,
   "metadata": {},
   "outputs": [],
   "source": [
    "df.dtypes"
   ]
  },
  {
   "cell_type": "code",
   "execution_count": null,
   "metadata": {},
   "outputs": [],
   "source": [
    "#Provide a set of columns with 0 missing values\n",
    "no_nulls = set(df.columns[df.isnull().mean()==0])\n",
    "no_nulls"
   ]
  },
  {
   "cell_type": "code",
   "execution_count": null,
   "metadata": {},
   "outputs": [],
   "source": [
    "status_val=df.manufacturer.value_counts()\n",
    "status_val"
   ]
  },
  {
   "cell_type": "code",
   "execution_count": null,
   "metadata": {},
   "outputs": [],
   "source": [
    "status_val1=df.model.value_counts()\n",
    "status_val1.head(50)"
   ]
  },
  {
   "cell_type": "code",
   "execution_count": null,
   "metadata": {},
   "outputs": [],
   "source": [
    "df.isnull().sum()"
   ]
  },
  {
   "cell_type": "code",
   "execution_count": null,
   "metadata": {},
   "outputs": [],
   "source": [
    "#The data is in good shape, there are 111 rows and 6 columns with no missing value. \n",
    "#The Data Cleaning stage of the CRISP-DM will be omitted"
   ]
  },
  {
   "cell_type": "code",
   "execution_count": null,
   "metadata": {},
   "outputs": [],
   "source": [
    "#Analysis and Visualization\n",
    "#Finding the trends in total sales of mobile phones by manufacturers (Questions 1&3)\n",
    "#Begin to answer Question 1\n",
    "#Find the total number of phones sold by various manufacturers"
   ]
  },
  {
   "cell_type": "code",
   "execution_count": null,
   "metadata": {},
   "outputs": [],
   "source": [
    "#Sum the units sold by the different manufacturer group and reset the index\n",
    "df_Manufacturer=df.groupby(['manufacturer'])['units_sold_m'].sum().reset_index()\n",
    "df_Manufacturer"
   ]
  },
  {
   "cell_type": "code",
   "execution_count": null,
   "metadata": {},
   "outputs": [],
   "source": [
    "plt.figure(figsize=(10,5))\n",
    "chart=sns.barplot(x=\"manufacturer\",y=\"units_sold_m\",data=df_Manufacturer)\n",
    "sns.set_theme(style=\"whitegrid\")\n",
    "plt.xlabel('Manufacturer', fontsize=18);\n",
    "plt.ylabel('Total Units Sold (mil)', fontsize=18);\n",
    "#plt.title('Total Units of Mobile Phones Sold by Manufacturers (1996-2021)', fontsize=18)\n",
    "chart.set_xticklabels(chart.get_xticklabels(), rotation=45, horizontalalignment='right',fontweight='light',\n",
    "    fontsize=14)\n",
    "\n",
    "plt.show()"
   ]
  },
  {
   "cell_type": "code",
   "execution_count": null,
   "metadata": {},
   "outputs": [],
   "source": [
    "#Understanding the pattern in sales of different phone types by manufacturers (Question 2)\n",
    "#Begin to answer question 2\n",
    "#Which manufactural sold highest number of Touchscreen? which sold highest number of bar phones?"
   ]
  },
  {
   "cell_type": "code",
   "execution_count": null,
   "metadata": {},
   "outputs": [],
   "source": [
    "#Group the data by form and extract all Touchscreen phones\n",
    "df_form = df.groupby('form')\n",
    "df_Touchscreen=df_form.get_group('Touchscreen')\n",
    "df_Touchscreen"
   ]
  },
  {
   "cell_type": "code",
   "execution_count": null,
   "metadata": {},
   "outputs": [],
   "source": [
    "#Sum the units of Touchscreens (df_Touchscreen) sold by the different manufacturer group and set the result to dataframe\n",
    "df_Touch_sum=df_Touchscreen.groupby(['manufacturer'])['units_sold_m'].sum().reset_index()\n",
    "df_Touch_sum\n"
   ]
  },
  {
   "cell_type": "code",
   "execution_count": null,
   "metadata": {},
   "outputs": [],
   "source": [
    "plt.figure(figsize=(10,5))\n",
    "chart=sns.barplot(x=\"manufacturer\",y=\"units_sold_m\",data=df_Touch_sum)\n",
    "sns.set_theme(style=\"whitegrid\")\n",
    "plt.xlabel('Manufacturer', fontsize=18);\n",
    "plt.ylabel('Total Units of Touchscreen Sold (mil)', fontsize=18);\n",
    "#plt.title('Total Units of Touchscreen Phones Sold by Manufacturers (1996-2021)', fontsize=18)\n",
    "chart.set_xticklabels(chart.get_xticklabels(), rotation=45, horizontalalignment='right',fontweight='light',\n",
    "    fontsize=14)\n",
    "plt.show()"
   ]
  },
  {
   "cell_type": "code",
   "execution_count": null,
   "metadata": {},
   "outputs": [],
   "source": [
    "#No. 2a. Apple sold highest number of Touchscreens at 1541.9 million "
   ]
  },
  {
   "cell_type": "code",
   "execution_count": null,
   "metadata": {},
   "outputs": [],
   "source": [
    "#Begin to answer No 2b. which sold highest number of bar phones?\n",
    "#Get all Bar phones from the groupby 'form' above\n",
    "df_Bar=df_form.get_group('Bar')\n",
    "df_Bar\n"
   ]
  },
  {
   "cell_type": "code",
   "execution_count": null,
   "metadata": {},
   "outputs": [],
   "source": [
    "#Sum the units of Bar (df_Bar) sold by the different manufacturer group and reset the indesx\n",
    "df_Bar_sum=df_Bar.groupby(['manufacturer'])['units_sold_m'].sum().reset_index()\n",
    "df_Bar_sum"
   ]
  },
  {
   "cell_type": "code",
   "execution_count": null,
   "metadata": {},
   "outputs": [],
   "source": [
    "plt.figure(figsize=(10,5))\n",
    "chart=sns.barplot(x=\"manufacturer\",y=\"units_sold_m\",data=df_Bar_sum)\n",
    "sns.set_theme(style=\"whitegrid\")\n",
    "plt.xlabel('Manufacturer', fontsize=18);\n",
    "plt.ylabel('Total Units of Bar Phones Sold (mil)', fontsize=18);\n",
    "#plt.title('Total Units of Bar Phones Sold by Manufacturers', fontsize=20)\n",
    "chart.set_xticklabels(chart.get_xticklabels(), rotation=45, horizontalalignment='right',fontweight='light',\n",
    "    fontsize=14)\n",
    "plt.show()"
   ]
  },
  {
   "cell_type": "code",
   "execution_count": null,
   "metadata": {},
   "outputs": [],
   "source": [
    "#No.2b. Nokia sold highest number of Bar Phones at 2032.84 million"
   ]
  },
  {
   "cell_type": "code",
   "execution_count": null,
   "metadata": {},
   "outputs": [],
   "source": [
    "#Finding the trends in total sales of mobile phones by manufacturers (Questions 1&3)\n",
    "#Begin to answer question 3. Which manufacturer sold highest number of Smartphones?"
   ]
  },
  {
   "cell_type": "code",
   "execution_count": null,
   "metadata": {},
   "outputs": [],
   "source": [
    "#Group the data by smartphone and extract'YES'\n",
    "df_smart = df.groupby('smartphone')\n",
    "df_smart\n",
    "df_smart_sum=df_smart.get_group('Yes')\n",
    "df_smart_sum.head(50)\n"
   ]
  },
  {
   "cell_type": "code",
   "execution_count": null,
   "metadata": {},
   "outputs": [],
   "source": [
    "#Sum the the units_sold in the smartphones dataframe by manufacturer\n",
    "df_smart_sum_manu = df_smart_sum.groupby(['manufacturer'])['units_sold_m'].sum().reset_index()\n",
    "df_smart_sum_manu_sort = df_smart_sum_manu.sort_values(['units_sold_m'], ascending=[0])\n",
    "print(df_smart_sum_manu_sort)"
   ]
  },
  {
   "cell_type": "code",
   "execution_count": null,
   "metadata": {},
   "outputs": [],
   "source": [
    "plt.figure(figsize=(10,5))\n",
    "chart=sns.barplot(x=\"manufacturer\",y=\"units_sold_m\",data=df_smart_sum_manu)\n",
    "sns.set_theme(style=\"whitegrid\")\n",
    "plt.xlabel('Manufacturer', fontsize=18);\n",
    "plt.ylabel('Total Units of Smartphones Sold (mil)', fontsize=18);\n",
    "#plt.title('Total Units of Smartphones Sold by Manufacturers', fontsize=20)\n",
    "chart.set_xticklabels(chart.get_xticklabels(), rotation=45, horizontalalignment='right',fontweight='light',\n",
    "    fontsize=14)\n",
    "plt.show()"
   ]
  },
  {
   "cell_type": "code",
   "execution_count": null,
   "metadata": {},
   "outputs": [],
   "source": [
    "#Apple sold the highest number of smartphones at 1541.9 million"
   ]
  },
  {
   "cell_type": "code",
   "execution_count": null,
   "metadata": {},
   "outputs": [],
   "source": [
    "#Examining the changes in the number of phone models launched over years (Question 4 & 5)\n",
    "#Begin to answer question 4\n",
    "#In which year was the most phones sold?\n",
    "#Group the data by year and sum the units sold\n",
    "df_year = df.groupby(['year'])['units_sold_m'].sum().reset_index()\n",
    "print(df_year)"
   ]
  },
  {
   "cell_type": "code",
   "execution_count": null,
   "metadata": {},
   "outputs": [],
   "source": [
    "#sort the rows in ascending\n",
    "df_year_sort = df_year.sort_values(['units_sold_m'], ascending=[0])\n",
    "df_year_sort"
   ]
  },
  {
   "cell_type": "code",
   "execution_count": null,
   "metadata": {},
   "outputs": [],
   "source": [
    "#No.3. Most phones were sold in 2003"
   ]
  },
  {
   "cell_type": "code",
   "execution_count": null,
   "metadata": {},
   "outputs": [],
   "source": [
    "plt.figure(figsize=(10,5))\n",
    "chart=sns.barplot(x=\"year\",y=\"units_sold_m\",data=df_year_sort)\n",
    "sns.set_theme(style=\"whitegrid\")\n",
    "plt.xlabel('Year', fontsize=18);\n",
    "plt.ylabel('Total Units of Phones Sold (mil)', fontsize=18);\n",
    "#plt.title('Total Units of Phones Sold by Year', fontsize=20)\n",
    "chart.set_xticklabels(chart.get_xticklabels(), rotation=45, horizontalalignment='right',fontweight='light',\n",
    "    fontsize=14)\n",
    "plt.show()"
   ]
  },
  {
   "cell_type": "code",
   "execution_count": null,
   "metadata": {},
   "outputs": [],
   "source": [
    "#Examining the changes in the number of phone models launched over years (Question 4 & 5)\n",
    "#Begin to answer question5.\n",
    "#5. In which year was the most phone models launched?\n",
    "#Group the data by year and model, then count the models\n",
    "df_most_model=df.groupby(['year', 'model']).agg(model_count = ('model', 'count'))\n",
    "df_most_model.head(50)"
   ]
  },
  {
   "cell_type": "code",
   "execution_count": null,
   "metadata": {},
   "outputs": [],
   "source": [
    "#Compute the sum of model_count for each year\n",
    "df_mm_count = df_most_model.groupby(['year'])['model_count'].sum().reset_index()\n",
    "df_mm_count"
   ]
  },
  {
   "cell_type": "code",
   "execution_count": null,
   "metadata": {},
   "outputs": [],
   "source": [
    "df_mm_count.model_count.max()\n"
   ]
  },
  {
   "cell_type": "code",
   "execution_count": null,
   "metadata": {},
   "outputs": [],
   "source": [
    "plt.figure(figsize=(10,5))\n",
    "chart=sns.barplot(x=\"year\",y=\"model_count\",data=df_mm_count)\n",
    "sns.set_theme(style=\"whitegrid\")\n",
    "plt.xlabel('Year', fontsize=18);\n",
    "plt.ylabel('Total Models of Phones Launched', fontsize=18);\n",
    "#plt.title('Total Models of Phones Sold by Year', fontsize=20)\n",
    "chart.set_xticklabels(chart.get_xticklabels(), rotation=45, horizontalalignment='right',fontweight='light',\n",
    "    fontsize=14)\n",
    "plt.show()"
   ]
  },
  {
   "cell_type": "code",
   "execution_count": null,
   "metadata": {},
   "outputs": [],
   "source": [
    "#Most phone models were launched in 2019 with a total of 18 models"
   ]
  }
 ],
 "metadata": {
  "kernelspec": {
   "display_name": "Python 3",
   "language": "python",
   "name": "python3"
  },
  "language_info": {
   "codemirror_mode": {
    "name": "ipython",
    "version": 3
   },
   "file_extension": ".py",
   "mimetype": "text/x-python",
   "name": "python",
   "nbconvert_exporter": "python",
   "pygments_lexer": "ipython3",
   "version": "3.8.5"
  }
 },
 "nbformat": 4,
 "nbformat_minor": 4
}
