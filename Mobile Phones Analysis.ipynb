{
 "cells": [
  {
   "cell_type": "code",
   "execution_count": 5,
   "metadata": {},
   "outputs": [],
   "source": [
    "import numpy as np\n",
    "import pandas as pd\n",
    "import matplotlib.pyplot as plt\n",
    "import seaborn as sns"
   ]
  },
  {
   "cell_type": "code",
   "execution_count": 7,
   "metadata": {},
   "outputs": [
    {
     "data": {
      "text/html": [
       "<div>\n",
       "<style scoped>\n",
       "    .dataframe tbody tr th:only-of-type {\n",
       "        vertical-align: middle;\n",
       "    }\n",
       "\n",
       "    .dataframe tbody tr th {\n",
       "        vertical-align: top;\n",
       "    }\n",
       "\n",
       "    .dataframe thead th {\n",
       "        text-align: right;\n",
       "    }\n",
       "</style>\n",
       "<table border=\"1\" class=\"dataframe\">\n",
       "  <thead>\n",
       "    <tr style=\"text-align: right;\">\n",
       "      <th></th>\n",
       "      <th>manufacturer</th>\n",
       "      <th>model</th>\n",
       "      <th>form</th>\n",
       "      <th>smartphone</th>\n",
       "      <th>year</th>\n",
       "      <th>units_sold_m</th>\n",
       "    </tr>\n",
       "  </thead>\n",
       "  <tbody>\n",
       "    <tr>\n",
       "      <th>0</th>\n",
       "      <td>Nokia</td>\n",
       "      <td>1100</td>\n",
       "      <td>Bar</td>\n",
       "      <td>No</td>\n",
       "      <td>2003</td>\n",
       "      <td>250.0</td>\n",
       "    </tr>\n",
       "    <tr>\n",
       "      <th>1</th>\n",
       "      <td>Nokia</td>\n",
       "      <td>1110</td>\n",
       "      <td>Bar</td>\n",
       "      <td>No</td>\n",
       "      <td>2005</td>\n",
       "      <td>247.5</td>\n",
       "    </tr>\n",
       "    <tr>\n",
       "      <th>2</th>\n",
       "      <td>Apple</td>\n",
       "      <td>iPhone 6 and iPhone 6 Plus</td>\n",
       "      <td>Touchscreen</td>\n",
       "      <td>Yes</td>\n",
       "      <td>2014</td>\n",
       "      <td>224.0</td>\n",
       "    </tr>\n",
       "    <tr>\n",
       "      <th>3</th>\n",
       "      <td>Nokia</td>\n",
       "      <td>105 (2013), 105 (2015)</td>\n",
       "      <td>Bar</td>\n",
       "      <td>No</td>\n",
       "      <td>2013</td>\n",
       "      <td>200.0</td>\n",
       "    </tr>\n",
       "    <tr>\n",
       "      <th>4</th>\n",
       "      <td>Apple</td>\n",
       "      <td>iPhone 6S and iPhone 6S Plus</td>\n",
       "      <td>Touchscreen</td>\n",
       "      <td>Yes</td>\n",
       "      <td>2015</td>\n",
       "      <td>174.1</td>\n",
       "    </tr>\n",
       "    <tr>\n",
       "      <th>...</th>\n",
       "      <td>...</td>\n",
       "      <td>...</td>\n",
       "      <td>...</td>\n",
       "      <td>...</td>\n",
       "      <td>...</td>\n",
       "      <td>...</td>\n",
       "    </tr>\n",
       "    <tr>\n",
       "      <th>106</th>\n",
       "      <td>LG</td>\n",
       "      <td>G2</td>\n",
       "      <td>Touchscreen</td>\n",
       "      <td>Yes</td>\n",
       "      <td>2013</td>\n",
       "      <td>3.0</td>\n",
       "    </tr>\n",
       "    <tr>\n",
       "      <th>107</th>\n",
       "      <td>LeTV</td>\n",
       "      <td>LeEco Le 1s</td>\n",
       "      <td>Touchscreen</td>\n",
       "      <td>Yes</td>\n",
       "      <td>2016</td>\n",
       "      <td>3.0</td>\n",
       "    </tr>\n",
       "    <tr>\n",
       "      <th>108</th>\n",
       "      <td>Google</td>\n",
       "      <td>Pixel and Pixel XL</td>\n",
       "      <td>Touchscreen</td>\n",
       "      <td>Yes</td>\n",
       "      <td>2016</td>\n",
       "      <td>2.1</td>\n",
       "    </tr>\n",
       "    <tr>\n",
       "      <th>109</th>\n",
       "      <td>Palm</td>\n",
       "      <td>Centro</td>\n",
       "      <td>Keyboard bar</td>\n",
       "      <td>Yes</td>\n",
       "      <td>2007</td>\n",
       "      <td>2.0</td>\n",
       "    </tr>\n",
       "    <tr>\n",
       "      <th>110</th>\n",
       "      <td>Nokia</td>\n",
       "      <td>N97</td>\n",
       "      <td>Tilt slider</td>\n",
       "      <td>Yes</td>\n",
       "      <td>2009</td>\n",
       "      <td>2.0</td>\n",
       "    </tr>\n",
       "  </tbody>\n",
       "</table>\n",
       "<p>111 rows × 6 columns</p>\n",
       "</div>"
      ],
      "text/plain": [
       "    manufacturer                         model          form smartphone  year  \\\n",
       "0          Nokia                          1100           Bar         No  2003   \n",
       "1          Nokia                          1110           Bar         No  2005   \n",
       "2          Apple    iPhone 6 and iPhone 6 Plus   Touchscreen        Yes  2014   \n",
       "3          Nokia        105 (2013), 105 (2015)           Bar         No  2013   \n",
       "4          Apple  iPhone 6S and iPhone 6S Plus   Touchscreen        Yes  2015   \n",
       "..           ...                           ...           ...        ...   ...   \n",
       "106           LG                            G2   Touchscreen        Yes  2013   \n",
       "107         LeTV                   LeEco Le 1s   Touchscreen        Yes  2016   \n",
       "108       Google            Pixel and Pixel XL   Touchscreen        Yes  2016   \n",
       "109         Palm                        Centro  Keyboard bar        Yes  2007   \n",
       "110        Nokia                           N97   Tilt slider        Yes  2009   \n",
       "\n",
       "     units_sold_m  \n",
       "0           250.0  \n",
       "1           247.5  \n",
       "2           224.0  \n",
       "3           200.0  \n",
       "4           174.1  \n",
       "..            ...  \n",
       "106           3.0  \n",
       "107           3.0  \n",
       "108           2.1  \n",
       "109           2.0  \n",
       "110           2.0  \n",
       "\n",
       "[111 rows x 6 columns]"
      ]
     },
     "execution_count": 7,
     "metadata": {},
     "output_type": "execute_result"
    }
   ],
   "source": [
    "df = pd.read_csv(\"C:\\\\Users\\\\debo_\\\\Desktop\\\\ProjectsData\\\\best-selling-mobile-phones.csv\")\n",
    "df"
   ]
  },
  {
   "cell_type": "code",
   "execution_count": null,
   "metadata": {},
   "outputs": [],
   "source": [
    "#Data Exploration "
   ]
  },
  {
   "cell_type": "code",
   "execution_count": null,
   "metadata": {},
   "outputs": [],
   "source": [
    "status_val=df.manufacturer.value_counts()\n",
    "status_val"
   ]
  },
  {
   "cell_type": "code",
   "execution_count": null,
   "metadata": {},
   "outputs": [],
   "source": [
    "status_val1=df.model.value_counts()\n",
    "status_val1.head(50)"
   ]
  },
  {
   "cell_type": "code",
   "execution_count": null,
   "metadata": {},
   "outputs": [],
   "source": [
    "df.dtypes"
   ]
  },
  {
   "cell_type": "code",
   "execution_count": null,
   "metadata": {},
   "outputs": [],
   "source": [
    "#Provide a set of columns with 0 missing values\n",
    "no_nulls = set(df.columns[df.isnull().mean()==0])\n",
    "no_nulls"
   ]
  },
  {
   "cell_type": "code",
   "execution_count": null,
   "metadata": {},
   "outputs": [],
   "source": [
    "#Which column has no missing values? Provide a set of column names that have no missing values\n",
    "np.sum(df.isnull())"
   ]
  },
  {
   "cell_type": "code",
   "execution_count": null,
   "metadata": {},
   "outputs": [],
   "source": [
    "df.isnull().sum()\n"
   ]
  },
  {
   "cell_type": "code",
   "execution_count": null,
   "metadata": {},
   "outputs": [],
   "source": [
    "#Begin to answer Question 1\n",
    "#Find the total number of phones sold by various manufacturers"
   ]
  },
  {
   "cell_type": "code",
   "execution_count": null,
   "metadata": {},
   "outputs": [],
   "source": [
    "#Sum the units sold by the different manufacturer group and reset the index\n",
    "df_Manufacturer=df.groupby(['manufacturer'])['units_sold_m'].sum().reset_index()\n",
    "df_Manufacturer"
   ]
  },
  {
   "cell_type": "code",
   "execution_count": null,
   "metadata": {},
   "outputs": [],
   "source": [
    "plt.figure(figsize=(10,5))\n",
    "chart=sns.barplot(x=\"manufacturer\",y=\"units_sold_m\",data=df_Manufacturer)\n",
    "sns.set_theme(style=\"whitegrid\")\n",
    "plt.xlabel('Manufacturer', fontsize=18);\n",
    "plt.ylabel('Total Units Sold (mil)', fontsize=18);\n",
    "#plt.title('Total Units of Mobile Phones Sold by Manufacturers (1996-2021)', fontsize=18)\n",
    "chart.set_xticklabels(chart.get_xticklabels(), rotation=45, horizontalalignment='right',fontweight='light',\n",
    "    fontsize=14)\n",
    "plt.show()"
   ]
  },
  {
   "cell_type": "code",
   "execution_count": null,
   "metadata": {},
   "outputs": [],
   "source": [
    "#Begin to answer question 2\n",
    "#Which manufactural sold highest number of Touchscreen? which sold highest number of bar phones?"
   ]
  },
  {
   "cell_type": "code",
   "execution_count": null,
   "metadata": {},
   "outputs": [],
   "source": [
    "#Group the data by form and extract all Touchscreen phones\n",
    "df_form = df.groupby('form')\n",
    "df_Touchscreen=df_form.get_group('Touchscreen')\n",
    "df_Touchscreen"
   ]
  },
  {
   "cell_type": "code",
   "execution_count": null,
   "metadata": {},
   "outputs": [],
   "source": [
    "#Sum the units of Touchscreens (df_Touchscreen) sold by the different manufacturer group and set the result to dataframe\n",
    "df_Touch_sum=df_Touchscreen.groupby(['manufacturer'])['units_sold_m'].sum().reset_index()\n",
    "df_Touch_sum\n"
   ]
  },
  {
   "cell_type": "code",
   "execution_count": 4,
   "metadata": {},
   "outputs": [
    {
     "ename": "NameError",
     "evalue": "name 'plt' is not defined",
     "output_type": "error",
     "traceback": [
      "\u001b[1;31m---------------------------------------------------------------------------\u001b[0m",
      "\u001b[1;31mNameError\u001b[0m                                 Traceback (most recent call last)",
      "\u001b[1;32m<ipython-input-4-44b08dd2e437>\u001b[0m in \u001b[0;36m<module>\u001b[1;34m\u001b[0m\n\u001b[1;32m----> 1\u001b[1;33m \u001b[0mplt\u001b[0m\u001b[1;33m.\u001b[0m\u001b[0mfigure\u001b[0m\u001b[1;33m(\u001b[0m\u001b[0mfigsize\u001b[0m\u001b[1;33m=\u001b[0m\u001b[1;33m(\u001b[0m\u001b[1;36m10\u001b[0m\u001b[1;33m,\u001b[0m\u001b[1;36m5\u001b[0m\u001b[1;33m)\u001b[0m\u001b[1;33m)\u001b[0m\u001b[1;33m\u001b[0m\u001b[1;33m\u001b[0m\u001b[0m\n\u001b[0m\u001b[0;32m      2\u001b[0m \u001b[0mchart\u001b[0m\u001b[1;33m=\u001b[0m\u001b[0msns\u001b[0m\u001b[1;33m.\u001b[0m\u001b[0mbarplot\u001b[0m\u001b[1;33m(\u001b[0m\u001b[0mx\u001b[0m\u001b[1;33m=\u001b[0m\u001b[1;34m\"manufacturer\"\u001b[0m\u001b[1;33m,\u001b[0m\u001b[0my\u001b[0m\u001b[1;33m=\u001b[0m\u001b[1;34m\"units_sold_m\"\u001b[0m\u001b[1;33m,\u001b[0m\u001b[0mdata\u001b[0m\u001b[1;33m=\u001b[0m\u001b[0mdf_Touch_sum\u001b[0m\u001b[1;33m)\u001b[0m\u001b[1;33m\u001b[0m\u001b[1;33m\u001b[0m\u001b[0m\n\u001b[0;32m      3\u001b[0m \u001b[0msns\u001b[0m\u001b[1;33m.\u001b[0m\u001b[0mset_theme\u001b[0m\u001b[1;33m(\u001b[0m\u001b[0mstyle\u001b[0m\u001b[1;33m=\u001b[0m\u001b[1;34m\"whitegrid\"\u001b[0m\u001b[1;33m)\u001b[0m\u001b[1;33m\u001b[0m\u001b[1;33m\u001b[0m\u001b[0m\n\u001b[0;32m      4\u001b[0m \u001b[0mplt\u001b[0m\u001b[1;33m.\u001b[0m\u001b[0mxlabel\u001b[0m\u001b[1;33m(\u001b[0m\u001b[1;34m'Manufacturer'\u001b[0m\u001b[1;33m,\u001b[0m \u001b[0mfontsize\u001b[0m\u001b[1;33m=\u001b[0m\u001b[1;36m18\u001b[0m\u001b[1;33m)\u001b[0m\u001b[1;33m;\u001b[0m\u001b[1;33m\u001b[0m\u001b[1;33m\u001b[0m\u001b[0m\n\u001b[0;32m      5\u001b[0m \u001b[0mplt\u001b[0m\u001b[1;33m.\u001b[0m\u001b[0mylabel\u001b[0m\u001b[1;33m(\u001b[0m\u001b[1;34m'Total Units of Touchscreen Sold (mil)'\u001b[0m\u001b[1;33m,\u001b[0m \u001b[0mfontsize\u001b[0m\u001b[1;33m=\u001b[0m\u001b[1;36m18\u001b[0m\u001b[1;33m)\u001b[0m\u001b[1;33m;\u001b[0m\u001b[1;33m\u001b[0m\u001b[1;33m\u001b[0m\u001b[0m\n",
      "\u001b[1;31mNameError\u001b[0m: name 'plt' is not defined"
     ]
    }
   ],
   "source": [
    "plt.figure(figsize=(10,5))\n",
    "chart=sns.barplot(x=\"manufacturer\",y=\"units_sold_m\",data=df_Touch_sum)\n",
    "sns.set_theme(style=\"whitegrid\")\n",
    "plt.xlabel('Manufacturer', fontsize=18);\n",
    "plt.ylabel('Total Units of Touchscreen Sold (mil)', fontsize=18);\n",
    "#plt.title('Total Units of Touchscreen Phones Sold by Manufacturers (1996-2021)', fontsize=18)\n",
    "chart.set_xticklabels(chart.get_xticklabels(), rotation=45, horizontalalignment='right',fontweight='light',\n",
    "    fontsize=14)\n",
    "plt.show()"
   ]
  },
  {
   "cell_type": "code",
   "execution_count": null,
   "metadata": {},
   "outputs": [],
   "source": [
    "#No. 2a. Apple sold highest number of Touchscreens at 1541.9 million "
   ]
  },
  {
   "cell_type": "code",
   "execution_count": null,
   "metadata": {},
   "outputs": [],
   "source": [
    "#Begin to answer No 2b. which sold highest number of bar phones?\n",
    "#Get all Bar phones from the groupby 'form' above\n",
    "df_Bar=df_form.get_group('Bar')\n",
    "df_Bar\n"
   ]
  },
  {
   "cell_type": "code",
   "execution_count": null,
   "metadata": {},
   "outputs": [],
   "source": [
    "#Sum the units of Bar (df_Bar) sold by the different manufacturer group and reset the indesx\n",
    "df_Bar_sum=df_Bar.groupby(['manufacturer'])['units_sold_m'].sum().reset_index()\n",
    "df_Bar_sum\n"
   ]
  },
  {
   "cell_type": "code",
   "execution_count": 3,
   "metadata": {},
   "outputs": [
    {
     "ename": "NameError",
     "evalue": "name 'plt' is not defined",
     "output_type": "error",
     "traceback": [
      "\u001b[1;31m---------------------------------------------------------------------------\u001b[0m",
      "\u001b[1;31mNameError\u001b[0m                                 Traceback (most recent call last)",
      "\u001b[1;32m<ipython-input-3-09a028631831>\u001b[0m in \u001b[0;36m<module>\u001b[1;34m\u001b[0m\n\u001b[1;32m----> 1\u001b[1;33m \u001b[0mplt\u001b[0m\u001b[1;33m.\u001b[0m\u001b[0mfigure\u001b[0m\u001b[1;33m(\u001b[0m\u001b[0mfigsize\u001b[0m\u001b[1;33m=\u001b[0m\u001b[1;33m(\u001b[0m\u001b[1;36m10\u001b[0m\u001b[1;33m,\u001b[0m\u001b[1;36m5\u001b[0m\u001b[1;33m)\u001b[0m\u001b[1;33m)\u001b[0m\u001b[1;33m\u001b[0m\u001b[1;33m\u001b[0m\u001b[0m\n\u001b[0m\u001b[0;32m      2\u001b[0m \u001b[0mchart\u001b[0m\u001b[1;33m=\u001b[0m\u001b[0msns\u001b[0m\u001b[1;33m.\u001b[0m\u001b[0mbarplot\u001b[0m\u001b[1;33m(\u001b[0m\u001b[0mx\u001b[0m\u001b[1;33m=\u001b[0m\u001b[1;34m\"manufacturer\"\u001b[0m\u001b[1;33m,\u001b[0m\u001b[0my\u001b[0m\u001b[1;33m=\u001b[0m\u001b[1;34m\"units_sold_m\"\u001b[0m\u001b[1;33m,\u001b[0m\u001b[0mdata\u001b[0m\u001b[1;33m=\u001b[0m\u001b[0mdf_Bar_sum\u001b[0m\u001b[1;33m)\u001b[0m\u001b[1;33m\u001b[0m\u001b[1;33m\u001b[0m\u001b[0m\n\u001b[0;32m      3\u001b[0m \u001b[0msns\u001b[0m\u001b[1;33m.\u001b[0m\u001b[0mset_theme\u001b[0m\u001b[1;33m(\u001b[0m\u001b[0mstyle\u001b[0m\u001b[1;33m=\u001b[0m\u001b[1;34m\"whitegrid\"\u001b[0m\u001b[1;33m)\u001b[0m\u001b[1;33m\u001b[0m\u001b[1;33m\u001b[0m\u001b[0m\n\u001b[0;32m      4\u001b[0m \u001b[0mplt\u001b[0m\u001b[1;33m.\u001b[0m\u001b[0mxlabel\u001b[0m\u001b[1;33m(\u001b[0m\u001b[1;34m'Manufacturer'\u001b[0m\u001b[1;33m,\u001b[0m \u001b[0mfontsize\u001b[0m\u001b[1;33m=\u001b[0m\u001b[1;36m18\u001b[0m\u001b[1;33m)\u001b[0m\u001b[1;33m;\u001b[0m\u001b[1;33m\u001b[0m\u001b[1;33m\u001b[0m\u001b[0m\n\u001b[0;32m      5\u001b[0m \u001b[0mplt\u001b[0m\u001b[1;33m.\u001b[0m\u001b[0mylabel\u001b[0m\u001b[1;33m(\u001b[0m\u001b[1;34m'Total Units of Bar Phones Sold (mil)'\u001b[0m\u001b[1;33m,\u001b[0m \u001b[0mfontsize\u001b[0m\u001b[1;33m=\u001b[0m\u001b[1;36m18\u001b[0m\u001b[1;33m)\u001b[0m\u001b[1;33m;\u001b[0m\u001b[1;33m\u001b[0m\u001b[1;33m\u001b[0m\u001b[0m\n",
      "\u001b[1;31mNameError\u001b[0m: name 'plt' is not defined"
     ]
    }
   ],
   "source": [
    "plt.figure(figsize=(10,5))\n",
    "chart=sns.barplot(x=\"manufacturer\",y=\"units_sold_m\",data=df_Bar_sum)\n",
    "sns.set_theme(style=\"whitegrid\")\n",
    "plt.xlabel('Manufacturer', fontsize=18);\n",
    "plt.ylabel('Total Units of Bar Phones Sold (mil)', fontsize=18);\n",
    "#plt.title('Total Units of Bar Phones Sold by Manufacturers', fontsize=20)\n",
    "chart.set_xticklabels(chart.get_xticklabels(), rotation=45, horizontalalignment='right',fontweight='light',\n",
    "    fontsize=14)\n",
    "plt.show()"
   ]
  },
  {
   "cell_type": "code",
   "execution_count": null,
   "metadata": {},
   "outputs": [],
   "source": [
    "#No.2b. Nokia sold highest number of Bar Phones at 2032.84 million"
   ]
  },
  {
   "cell_type": "code",
   "execution_count": null,
   "metadata": {},
   "outputs": [],
   "source": [
    "#Begin to answer question 3. Which manufacturer sold highest number of Smartphones?"
   ]
  },
  {
   "cell_type": "code",
   "execution_count": null,
   "metadata": {},
   "outputs": [],
   "source": [
    "#Group the data by smartphone and extract'YES'\n",
    "df_smart = df.groupby('smartphone')\n",
    "df_smart\n",
    "df_smart_sum=df_smart.get_group('Yes')\n",
    "df_smart_sum.head(50)\n"
   ]
  },
  {
   "cell_type": "code",
   "execution_count": null,
   "metadata": {},
   "outputs": [],
   "source": [
    "#Sum the the units_sold in the smartphones dataframe by manufacturer\n",
    "df_smart_sum_manu = df_smart_sum.groupby(['manufacturer'])['units_sold_m'].sum().reset_index()\n",
    "df_smart_sum_manu_sort = df_smart_sum_manu.sort_values(['units_sold_m'], ascending=[0])\n",
    "print(df_smart_sum_manu_sort)"
   ]
  },
  {
   "cell_type": "code",
   "execution_count": null,
   "metadata": {},
   "outputs": [],
   "source": [
    "plt.figure(figsize=(10,5))\n",
    "chart=sns.barplot(x=\"manufacturer\",y=\"units_sold_m\",data=df_smart_sum_manu)\n",
    "sns.set_theme(style=\"whitegrid\")\n",
    "plt.xlabel('Manufacturer', fontsize=18);\n",
    "plt.ylabel('Total Units of Smartphones Sold (mil)', fontsize=18);\n",
    "#plt.title('Total Units of Smartphones Sold by Manufacturers', fontsize=20)\n",
    "chart.set_xticklabels(chart.get_xticklabels(), rotation=45, horizontalalignment='right',fontweight='light',\n",
    "    fontsize=14)\n",
    "plt.show()"
   ]
  },
  {
   "cell_type": "code",
   "execution_count": null,
   "metadata": {},
   "outputs": [],
   "source": [
    "#Apple sold the highest number of smartphones at 1541.9 million"
   ]
  },
  {
   "cell_type": "code",
   "execution_count": null,
   "metadata": {},
   "outputs": [],
   "source": [
    "#Begin to answer question 4\n",
    "#In which year was the most phones sold?\n",
    "#Group the data by year and sum the units sold\n",
    "df_year = df.groupby(['year'])['units_sold_m'].sum().reset_index()\n",
    "print(df_year)"
   ]
  },
  {
   "cell_type": "code",
   "execution_count": null,
   "metadata": {},
   "outputs": [],
   "source": [
    "#sort the rows in ascending\n",
    "df_year_sort = df_year.sort_values(['units_sold_m'], ascending=[0])\n",
    "df_year_sort"
   ]
  },
  {
   "cell_type": "code",
   "execution_count": null,
   "metadata": {},
   "outputs": [],
   "source": [
    "#No.3. Most phones were sold in 2003"
   ]
  },
  {
   "cell_type": "code",
   "execution_count": null,
   "metadata": {},
   "outputs": [],
   "source": [
    "plt.figure(figsize=(10,5))\n",
    "chart=sns.barplot(x=\"year\",y=\"units_sold_m\",data=df_year_sort)\n",
    "sns.set_theme(style=\"whitegrid\")\n",
    "plt.xlabel('Year', fontsize=18);\n",
    "plt.ylabel('Total Units of Phones Sold (mil)', fontsize=18);\n",
    "#plt.title('Total Units of Phones Sold by Year', fontsize=20)\n",
    "chart.set_xticklabels(chart.get_xticklabels(), rotation=45, horizontalalignment='right',fontweight='light',\n",
    "    fontsize=14)\n",
    "plt.show()"
   ]
  },
  {
   "cell_type": "code",
   "execution_count": null,
   "metadata": {},
   "outputs": [],
   "source": [
    "#Begin to answer question5.\n",
    "#5. In which year was the most phone models launched?\n",
    "#Group the data by year and model, then count the models\n",
    "df_most_model=df.groupby(['year', 'model']).agg(model_count = ('model', 'count'))\n",
    "df_most_model.head(50)"
   ]
  },
  {
   "cell_type": "code",
   "execution_count": null,
   "metadata": {},
   "outputs": [],
   "source": [
    "#Compute the sum of model_count for each year\n",
    "df_mm_count = df_most_model.groupby(['year'])['model_count'].sum().reset_index()\n",
    "df_mm_count"
   ]
  },
  {
   "cell_type": "code",
   "execution_count": null,
   "metadata": {},
   "outputs": [],
   "source": [
    "df_mm_count.model_count.max()\n"
   ]
  },
  {
   "cell_type": "code",
   "execution_count": null,
   "metadata": {},
   "outputs": [],
   "source": [
    "plt.figure(figsize=(10,5))\n",
    "chart=sns.barplot(x=\"year\",y=\"model_count\",data=df_mm_count)\n",
    "sns.set_theme(style=\"whitegrid\")\n",
    "plt.xlabel('Year', fontsize=18);\n",
    "plt.ylabel('Total Models of Phones Sold (mil)', fontsize=18);\n",
    "#plt.title('Total Models of Phones Sold by Year', fontsize=20)\n",
    "chart.set_xticklabels(chart.get_xticklabels(), rotation=45, horizontalalignment='right',fontweight='light',\n",
    "    fontsize=14)\n",
    "plt.show()"
   ]
  },
  {
   "cell_type": "code",
   "execution_count": null,
   "metadata": {},
   "outputs": [],
   "source": [
    "#Most phone models were launched in 2019 with a total of 18 models"
   ]
  }
 ],
 "metadata": {
  "kernelspec": {
   "display_name": "Python [conda env:root] *",
   "language": "python",
   "name": "conda-root-py"
  },
  "language_info": {
   "codemirror_mode": {
    "name": "ipython",
    "version": 3
   },
   "file_extension": ".py",
   "mimetype": "text/x-python",
   "name": "python",
   "nbconvert_exporter": "python",
   "pygments_lexer": "ipython3",
   "version": "3.8.5"
  }
 },
 "nbformat": 4,
 "nbformat_minor": 4
}
