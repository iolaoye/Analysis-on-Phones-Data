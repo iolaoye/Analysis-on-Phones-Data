{
 "cells": [
  {
   "cell_type": "code",
   "execution_count": 1,
   "metadata": {},
   "outputs": [],
   "source": [
    "import numpy as np\n",
    "import pandas as pd\n",
    "import matplotlib.pyplot as plt\n",
    "import seaborn as sns"
   ]
  },
  {
   "cell_type": "markdown",
   "metadata": {},
   "source": [
    "df = pd.read_csv(\"C:\\\\Users\\\\debo_\\\\Desktop\\\\ProjectsData\\\\best-selling-mobile-phones.csv\")\n",
    "df "
   ]
  },
  {
   "cell_type": "code",
   "execution_count": 2,
   "metadata": {},
   "outputs": [],
   "source": [
    "#Data Exploration "
   ]
  },
  {
   "cell_type": "code",
   "execution_count": null,
   "metadata": {},
   "outputs": [],
   "source": [
    "df.dtypes"
   ]
  },
  {
   "cell_type": "code",
   "execution_count": null,
   "metadata": {},
   "outputs": [],
   "source": [
    "#Which column has no missing values? Provide a set of column names that have no missing values\n",
    "np.sum(df.isnull())"
   ]
  },
  {
   "cell_type": "code",
   "execution_count": null,
   "metadata": {},
   "outputs": [],
   "source": [
    "status_val1=df.model.value_counts()\n",
    "status_val1.head(50)"
   ]
  },
  {
   "cell_type": "code",
   "execution_count": null,
   "metadata": {},
   "outputs": [],
   "source": [
    "#Begin to answer Question 1\n",
    "#Find the total number of phones sold by various manufacturers"
   ]
  },
  {
   "cell_type": "code",
   "execution_count": null,
   "metadata": {},
   "outputs": [],
   "source": [
    "#Sum the units sold by the different manufacturer group and reset the index\n",
    "df_Manufacturer=df.groupby(['manufacturer'])['units_sold_m'].sum().reset_index()\n",
    "df_Manufacturer"
   ]
  },
  {
   "cell_type": "code",
   "execution_count": null,
   "metadata": {},
   "outputs": [],
   "source": [
    "plt.figure(figsize=(10,5))\n",
    "chart=sns.barplot(x=\"manufacturer\",y=\"units_sold_m\",data=df_M)\n",
    "sns.set_theme(style=\"whitegrid\")\n",
    "plt.xlabel('Manufacturer', fontsize=18);\n",
    "plt.ylabel('Total Units Sold (mil)', fontsize=18);\n",
    "plt.title('Total Units of Mobile Phones Sold by Manufacturers', fontsize=20)\n",
    "chart.set_xticklabels(chart.get_xticklabels(), rotation=45, horizontalalignment='right',fontweight='light',\n",
    "    fontsize=14)\n",
    "plt.show()"
   ]
  },
  {
   "cell_type": "code",
   "execution_count": null,
   "metadata": {},
   "outputs": [],
   "source": [
    "#Begin to answer question 2\n",
    "#Which manufactural sold highest number of Touchscreen? which sold highest number of bar phones?"
   ]
  },
  {
   "cell_type": "code",
   "execution_count": null,
   "metadata": {},
   "outputs": [],
   "source": [
    "#Group the data by form and extract all Touchscreen phones\n",
    "df_form = df.groupby('form')\n",
    "df_Touchscreen=df_form.get_group('Touchscreen')\n",
    "df_Touchscreen"
   ]
  },
  {
   "cell_type": "code",
   "execution_count": null,
   "metadata": {},
   "outputs": [],
   "source": [
    "#Sum the units of Touchscreens (df_Touchscreen) sold by the different manufacturer group and set the result to dataframe\n",
    "df_Touch_sum=df_Touchscreen.groupby(['manufacturer'])['units_sold_m'].sum().reset_index()\n",
    "df_Touch_sum\n"
   ]
  },
  {
   "cell_type": "code",
   "execution_count": null,
   "metadata": {},
   "outputs": [],
   "source": [
    "plt.figure(figsize=(10,5))\n",
    "chart=sns.barplot(x=\"manufacturer\",y=\"units_sold_m\",data=df_Touch)\n",
    "sns.set_theme(style=\"whitegrid\")\n",
    "plt.xlabel('Manufacturer', fontsize=18);\n",
    "plt.ylabel('Total Units of Touchscreen Sold (mil)', fontsize=18);\n",
    "plt.title('Total Units of Touchscreen Phones Sold by Manufacturers', fontsize=20)\n",
    "chart.set_xticklabels(chart.get_xticklabels(), rotation=45, horizontalalignment='right',fontweight='light',\n",
    "    fontsize=14)\n",
    "plt.show()"
   ]
  },
  {
   "cell_type": "code",
   "execution_count": null,
   "metadata": {},
   "outputs": [],
   "source": [
    "#No. 2a. Apple sold highest number of Touchscreens at 1541.9 million "
   ]
  },
  {
   "cell_type": "code",
   "execution_count": null,
   "metadata": {},
   "outputs": [],
   "source": [
    "#Begin to answer No 2b. which sold highest number of bar phones?\n",
    "#Get all Bar phones from the groupby 'form' above\n",
    "df_Bar=df_form.get_group('Bar')\n",
    "df_Bar\n"
   ]
  },
  {
   "cell_type": "code",
   "execution_count": null,
   "metadata": {},
   "outputs": [],
   "source": [
    "#Sum the units of Bar (df_Bar) sold by the different manufacturer group and reset the indesx\n",
    "df_Bar_sum=df_Bar.groupby(['manufacturer'])['units_sold_m'].sum().reset_index()\n",
    "df_Bar_sum\n"
   ]
  },
  {
   "cell_type": "code",
   "execution_count": null,
   "metadata": {},
   "outputs": [],
   "source": [
    "plt.figure(figsize=(10,5))\n",
    "chart=sns.barplot(x=\"manufacturer\",y=\"units_sold_m\",data=df_Bar_sum)\n",
    "sns.set_theme(style=\"whitegrid\")\n",
    "plt.xlabel('Manufacturer', fontsize=18);\n",
    "plt.ylabel('Total Units of Bar Phones Sold (mil)', fontsize=18);\n",
    "plt.title('Total Units of Bar Phones Sold by Manufacturers', fontsize=20)\n",
    "chart.set_xticklabels(chart.get_xticklabels(), rotation=45, horizontalalignment='right',fontweight='light',\n",
    "    fontsize=14)\n",
    "plt.show()"
   ]
  },
  {
   "cell_type": "code",
   "execution_count": null,
   "metadata": {},
   "outputs": [],
   "source": [
    "#No.2b. Nokia sold highest number of Bar Phones at 2032.84 million"
   ]
  },
  {
   "cell_type": "code",
   "execution_count": null,
   "metadata": {},
   "outputs": [],
   "source": [
    "#Begin to answer question 3. Which manufacturer sold highest number of Smartphones?"
   ]
  },
  {
   "cell_type": "code",
   "execution_count": null,
   "metadata": {},
   "outputs": [],
   "source": [
    "#Group the data by smartphone and extract'YES'\n",
    "df_smart = df.groupby('smartphone')\n",
    "df_smart\n",
    "df_smart_sum=df_smart.get_group('Yes')\n",
    "df_smart_sum.head(50)\n"
   ]
  },
  {
   "cell_type": "code",
   "execution_count": null,
   "metadata": {},
   "outputs": [],
   "source": [
    "#Sum the the units_sold in the smartphones dataframe by manufacturer\n",
    "df_smart_sum_manu = df_smart_sum.groupby(['manufacturer'])['units_sold_m'].sum().reset_index()\n",
    "df_smart_sum_manu_sort = df_smart_sum_manu.sort_values(['units_sold_m'], ascending=[0])\n",
    "print(df_smart_sum_manu_sort)"
   ]
  },
  {
   "cell_type": "code",
   "execution_count": null,
   "metadata": {},
   "outputs": [],
   "source": [
    "plt.figure(figsize=(10,5))\n",
    "chart=sns.barplot(x=\"manufacturer\",y=\"units_sold_m\",data=df_smart_sum_manu)\n",
    "sns.set_theme(style=\"whitegrid\")\n",
    "plt.xlabel('Manufacturer', fontsize=18);\n",
    "plt.ylabel('Total Units of Smartphones Sold (mil)', fontsize=18);\n",
    "plt.title('Total Units of Smartphones Sold by Manufacturers', fontsize=20)\n",
    "chart.set_xticklabels(chart.get_xticklabels(), rotation=45, horizontalalignment='right',fontweight='light',\n",
    "    fontsize=14)\n",
    "plt.show()"
   ]
  },
  {
   "cell_type": "code",
   "execution_count": null,
   "metadata": {},
   "outputs": [],
   "source": [
    "#Apple sold the highest number of smartphones at 1541.9 million"
   ]
  },
  {
   "cell_type": "code",
   "execution_count": null,
   "metadata": {},
   "outputs": [],
   "source": [
    "#Begin to answer question 4\n",
    "#In which year was the most phones sold?\n",
    "#Group the data by year and sum the units sold\n",
    "df_year = df.groupby(['year'])['units_sold_m'].sum().reset_index()\n",
    "print(df_year)"
   ]
  },
  {
   "cell_type": "code",
   "execution_count": null,
   "metadata": {},
   "outputs": [],
   "source": [
    "#sort the rows in ascending\n",
    "df_year_sort = df_year.sort_values(['units_sold_m'], ascending=[0])\n",
    "df_year_sort"
   ]
  },
  {
   "cell_type": "code",
   "execution_count": null,
   "metadata": {},
   "outputs": [],
   "source": [
    "#No.3. Most phones were sold in 2003"
   ]
  },
  {
   "cell_type": "code",
   "execution_count": null,
   "metadata": {},
   "outputs": [],
   "source": [
    "plt.figure(figsize=(10,5))\n",
    "chart=sns.barplot(x=\"year\",y=\"units_sold_m\",data=df_year_sort)\n",
    "sns.set_theme(style=\"whitegrid\")\n",
    "plt.xlabel('Year', fontsize=18);\n",
    "plt.ylabel('Total Units of Phones Sold (mil)', fontsize=18);\n",
    "plt.title('Total Units of Phones Sold by Year', fontsize=20)\n",
    "chart.set_xticklabels(chart.get_xticklabels(), rotation=45, horizontalalignment='right',fontweight='light',\n",
    "    fontsize=14)\n",
    "plt.show()"
   ]
  },
  {
   "cell_type": "code",
   "execution_count": null,
   "metadata": {},
   "outputs": [],
   "source": [
    "#Begin to answer question5.\n",
    "#5. In which year was the most phone models launched?\n",
    "#Group the data by year and model, then count the models\n",
    "df_most_model=df.groupby(['year', 'model']).agg(model_count = ('model', 'count'))\n",
    "df_most_model.head(50)"
   ]
  },
  {
   "cell_type": "code",
   "execution_count": null,
   "metadata": {},
   "outputs": [],
   "source": [
    "#Compute the sum of model_count for each year\n",
    "df_mm_count = df_most_model.groupby(['year'])['model_count'].sum().reset_index()\n",
    "df_mm_count"
   ]
  },
  {
   "cell_type": "code",
   "execution_count": null,
   "metadata": {},
   "outputs": [],
   "source": [
    "df_mm_count.model_count.max()\n"
   ]
  },
  {
   "cell_type": "code",
   "execution_count": null,
   "metadata": {},
   "outputs": [],
   "source": [
    "plt.figure(figsize=(10,5))\n",
    "chart=sns.barplot(x=\"year\",y=\"model_count\",data=df_mm_count)\n",
    "sns.set_theme(style=\"whitegrid\")\n",
    "plt.xlabel('Year', fontsize=18);\n",
    "plt.ylabel('Total Models of Phones Sold (mil)', fontsize=18);\n",
    "plt.title('Total Models of Phones Sold by Year', fontsize=20)\n",
    "chart.set_xticklabels(chart.get_xticklabels(), rotation=45, horizontalalignment='right',fontweight='light',\n",
    "    fontsize=14)\n",
    "plt.show()"
   ]
  },
  {
   "cell_type": "code",
   "execution_count": null,
   "metadata": {},
   "outputs": [],
   "source": [
    "#Most phone models were launched in 2019 with a total of 18 models"
   ]
  }
 ],
 "metadata": {
  "kernelspec": {
   "display_name": "Python [conda env:root] *",
   "language": "python",
   "name": "conda-root-py"
  },
  "language_info": {
   "codemirror_mode": {
    "name": "ipython",
    "version": 3
   },
   "file_extension": ".py",
   "mimetype": "text/x-python",
   "name": "python",
   "nbconvert_exporter": "python",
   "pygments_lexer": "ipython3",
   "version": "3.8.5"
  }
 },
 "nbformat": 4,
 "nbformat_minor": 4
}
